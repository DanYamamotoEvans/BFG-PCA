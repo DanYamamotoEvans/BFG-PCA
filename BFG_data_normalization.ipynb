{
 "cells": [
  {
   "cell_type": "code",
   "execution_count": 2,
   "id": "raising-combine",
   "metadata": {},
   "outputs": [],
   "source": [
    "# coding: utf-8\n",
    "import ast\n",
    "import os\n",
    "import sys\n",
    "import re\n",
    "from pprint import pprint\n",
    "import numpy as np\n",
    "from tqdm import tqdm\n",
    "\n",
    "from func import normalization as norm\n",
    "\n",
    "##############################################\n",
    "# JUPYTER-NOTEBOOK FOR NORMALIZING BARCODE   #\n",
    "# COUNTS FROM BFG-PCA SCREENINGS             #\n",
    "# Last modified by Daniel Evans-Yamamoto     #\n",
    "##############################################\n",
    "\n",
    "PATH = os.path.abspath(\".\")\n",
    "run_name = \"test\"\n",
    "\n",
    "if not os.path.isdir('%s/Data/%s/normalization'%(PATH,run_name)):\n",
    "    norm_dir = '%s/Data/%s/normalization'%(PATH,run_name)\n",
    "    os.makedirs(norm_dir)"
   ]
  },
  {
   "cell_type": "code",
   "execution_count": null,
   "id": "previous-button",
   "metadata": {},
   "outputs": [],
   "source": [
    "#  Definfing the file location\n",
    "count_f        = \"%s/Data/%s/barcode_counts/count.txt\"%(PATH,run_name)\n",
    "\n",
    "#  Reading dict object from the text files with count data\n",
    "count     = reading(count_f)\n",
    "# Reading tag information and barcode database \n",
    "multiplex_tag  = norm.get_tagdata('%s/%s/%s_tag.csv'%(PATH,run_name,run_name))#Change this to your own file. Read wiki for instructions.\n",
    "db             = norm.get_mapdata('%s/%s/%s_database.csv'%(PATH,run_name,run_name))#Change this to your own file. Read wiki for instructions."
   ]
  },
  {
   "cell_type": "code",
   "execution_count": null,
   "id": "complimentary-franklin",
   "metadata": {},
   "outputs": [],
   "source": [
    "# Examine total reads;\n",
    "norm.tot_reads(count,multiplex_tag,norm_dir)"
   ]
  },
  {
   "cell_type": "code",
   "execution_count": null,
   "id": "prerequisite-tuning",
   "metadata": {},
   "outputs": [],
   "source": [
    "# Organize dict of reads per strain\n",
    "count_2 =  norm.organize_data(count,db,multiplex_tag,\"PCA\")\n"
   ]
  },
  {
   "cell_type": "code",
   "execution_count": null,
   "id": "emerging-status",
   "metadata": {},
   "outputs": [],
   "source": [
    "# Eliminating strains present in less than 90% of diploids\n",
    "count_3 = norm.absent(count_2,0.9,\"PCA\")\n",
    "\n",
    "count_sums = norm.get_sums(count_3,multiplex_tag,\"PCA\",db)\n",
    "\n",
    "\n"
   ]
  },
  {
   "cell_type": "code",
   "execution_count": null,
   "id": "material-folder",
   "metadata": {},
   "outputs": [],
   "source": [
    "# Computing raw signals \n",
    "raw_s,count_hap  = norm.compute_s(count_3,count_sums,db,multiplex_tag,\"PCA\")"
   ]
  },
  {
   "cell_type": "code",
   "execution_count": null,
   "id": "happy-westminster",
   "metadata": {},
   "outputs": [],
   "source": [
    "# Organizing data and counting haploid strains\n",
    "reps= norm.count_haploids(count_hap,norm_dir)\n",
    "norm.haploid_replicates(reps,norm_dir)"
   ]
  },
  {
   "cell_type": "code",
   "execution_count": null,
   "id": "tracked-probability",
   "metadata": {},
   "outputs": [],
   "source": [
    "## Normalize signal 's'\n",
    "## For Y2H ; Normalize data by Nth quantile of bait 'median distribution' of 's' score\n",
    "## For PCA ; Normalize data by median 's' score of both bait and prey \n",
    "\n",
    "normalized_score,hap_s = norm.compute_ds(raw_s,count_sums,db,multiplex_tag,\"PCA\")\n"
   ]
  },
  {
   "cell_type": "code",
   "execution_count": null,
   "id": "trying-schema",
   "metadata": {},
   "outputs": [],
   "source": [
    "norm.output_norm_score(raw_s,db,norm_dir)"
   ]
  }
 ],
 "metadata": {
  "kernelspec": {
   "display_name": "Python 3",
   "language": "python",
   "name": "python3"
  },
  "language_info": {
   "codemirror_mode": {
    "name": "ipython",
    "version": 3
   },
   "file_extension": ".py",
   "mimetype": "text/x-python",
   "name": "python",
   "nbconvert_exporter": "python",
   "pygments_lexer": "ipython3",
   "version": "3.6.1"
  }
 },
 "nbformat": 4,
 "nbformat_minor": 5
}
