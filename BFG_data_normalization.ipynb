{
 "cells": [
  {
   "cell_type": "code",
   "execution_count": 1,
   "id": "raising-combine",
   "metadata": {},
   "outputs": [],
   "source": [
    "# coding: utf-8\n",
    "import ast\n",
    "import os\n",
    "import sys\n",
    "import re\n",
    "from pprint import pprint\n",
    "import numpy as np\n",
    "from tqdm import tqdm\n",
    "\n",
    "from func import normalization as norm\n",
    "\n",
    "##############################################\n",
    "# JUPYTER-NOTEBOOK FOR NORMALIZING BARCODE   #\n",
    "# COUNTS FROM BFG-PCA SCREENINGS             #\n",
    "# Last modified by Daniel Evans-Yamamoto     #\n",
    "##############################################\n",
    "\n",
    "PATH = os.path.abspath(\".\")\n",
    "run_name = \"test\"\n",
    "norm_dir = '%s/Data/%s/normalization'%(PATH,run_name)\n",
    "stats_dir = '%s/Data/%s/stats'%(PATH,run_name)\n",
    "if not os.path.isdir(norm_dir):\n",
    "    os.makedirs(norm_dir)\n",
    "    os.makedirs(stats_dir)"
   ]
  },
  {
   "cell_type": "code",
   "execution_count": 2,
   "id": "previous-button",
   "metadata": {},
   "outputs": [],
   "source": [
    "#  Definfing the file location\n",
    "count_f        = \"%s/Data/%s/barcode_counts/counts.txt\"%(PATH,run_name)\n",
    "\n",
    "#  Reading dict object from the text files with count data\n",
    "count     = norm.reading(count_f)\n",
    "# Reading tag information and barcode database \n",
    "multiplex_tag  = norm.get_tagdata('%s/%s/%s_tag.csv'%(PATH,run_name,run_name))#Change this to your own file. Read wiki for instructions.\n",
    "db             = norm.get_mapdata('%s/%s/%s_database.csv'%(PATH,run_name,run_name))#Change this to your own file. Read wiki for instructions."
   ]
  },
  {
   "cell_type": "code",
   "execution_count": 3,
   "id": "complimentary-franklin",
   "metadata": {},
   "outputs": [
    {
     "name": "stdout",
     "output_type": "stream",
     "text": [
      "Index Sample Total reads\n",
      "P01-P01 DMSO_72 26688\n",
      "P02-P02 DMSO_96 20268\n",
      "P03-P03 MTX1_72 31386\n",
      "P04-P04 MTX1_96 17517\n",
      "P05-P05 MTX10_72 59666\n",
      "P06-P06 MTX10_96 48641\n",
      "P07-P07 MTX100_72 80752\n",
      "P08-P08 MTX100_96 70757\n",
      "P09-P09 MTX200_72 63668\n",
      "P10-P10 MTX200_96 68431\n"
     ]
    }
   ],
   "source": [
    "# Examine total reads;\n",
    "norm.tot_reads(count,multiplex_tag)"
   ]
  },
  {
   "cell_type": "code",
   "execution_count": 4,
   "id": "arbitrary-mission",
   "metadata": {},
   "outputs": [],
   "source": [
    "#pprint(count)"
   ]
  },
  {
   "cell_type": "code",
   "execution_count": 5,
   "id": "prerequisite-tuning",
   "metadata": {},
   "outputs": [
    {
     "name": "stdout",
     "output_type": "stream",
     "text": [
      "Working on ...\n",
      "P01-P01 Control_1\n",
      "P03-P03 MTX1_72_PRS\n",
      "P05-P05 MTX10_72_PRS\n",
      "P07-P07 MTX100_72_PRS\n",
      "P09-P09 MTX200_72_PRS\n",
      "P02-P02 Control_2\n",
      "P04-P04 MTX1_96_PRS\n",
      "P06-P06 MTX10_96_PRS\n",
      "P08-P08 MTX100_96_PRS\n",
      "P10-P10 MTX200_96_PRS\n"
     ]
    }
   ],
   "source": [
    "# Organize dict of reads per strain\n",
    "count_2 =  norm.organize_data(count,db,multiplex_tag,\"PCA\")"
   ]
  },
  {
   "cell_type": "code",
   "execution_count": 6,
   "id": "emerging-status",
   "metadata": {},
   "outputs": [],
   "source": [
    "# Eliminating strains present in less than 90% of diploids\n",
    "\n",
    "count_3 = norm.absent(count_2,0.9,\"PCA\")\n",
    "\n",
    "count_sums = norm.get_sums(count_3,multiplex_tag,\"PCA\",db)\n",
    "\n",
    "\n"
   ]
  },
  {
   "cell_type": "code",
   "execution_count": 7,
   "id": "extreme-latest",
   "metadata": {},
   "outputs": [],
   "source": [
    "# Normalize scores based on strain abundance of bait and prey haploids in Control condition\n",
    "\n",
    "raw_s,hap_s  = norm.compute_s(count_3,count_sums,db,multiplex_tag,\"PCA\")"
   ]
  },
  {
   "cell_type": "code",
   "execution_count": 8,
   "id": "happy-westminster",
   "metadata": {},
   "outputs": [
    {
     "name": "stdout",
     "output_type": "stream",
     "text": [
      "Control_1 \t\tBait: , (15 ORFs) 21 Prey, (13 ORFs) 18\n",
      "Control_2 \t\tBait: , (15 ORFs) 21 Prey, (13 ORFs) 18\n",
      "Generated : /Users/danyamamotoevans/GitHub/BFG-PCA/Data/test/normalization/Haploid_F.csv\n",
      "Generated : /Users/danyamamotoevans/GitHub/BFG-PCA/Data/test/normalization/haplliod_n.csv\n"
     ]
    }
   ],
   "source": [
    "# Organizing data and counting haploid strains\n",
    "reps= norm.count_haploids(hap_s,norm_dir,db)\n",
    "norm.haploid_replicates(reps,norm_dir)"
   ]
  },
  {
   "cell_type": "code",
   "execution_count": 9,
   "id": "tracked-probability",
   "metadata": {},
   "outputs": [],
   "source": [
    "## Normalize signal 's'\n",
    "## For Y2H ; Normalize data by Nth quantile of bait 'median distribution' of 's' score\n",
    "## For PCA ; Normalize data by median 's' score of both bait and prey \n",
    "\n",
    "normalized_score,hap_s = norm.compute_ds(raw_s,count_sums,db,multiplex_tag,\"PCA\")\n"
   ]
  },
  {
   "cell_type": "code",
   "execution_count": 10,
   "id": "trying-schema",
   "metadata": {},
   "outputs": [
    {
     "name": "stderr",
     "output_type": "stream",
     "text": [
      "100%|██████████| 15/15 [00:00<00:00, 208.57it/s]"
     ]
    },
    {
     "name": "stdout",
     "output_type": "stream",
     "text": [
      "Generated : /Users/danyamamotoevans/GitHub/BFG-PCA/Data/test/normalization/BFG-PCA_PPI_scores_Normalized.csv\n"
     ]
    },
    {
     "name": "stderr",
     "output_type": "stream",
     "text": [
      "\n"
     ]
    }
   ],
   "source": [
    "norm.output_norm_score(normalized_score,db,norm_dir)"
   ]
  },
  {
   "cell_type": "code",
   "execution_count": 11,
   "id": "greatest-buyer",
   "metadata": {},
   "outputs": [],
   "source": [
    "#pprint(hap_s)"
   ]
  },
  {
   "cell_type": "code",
   "execution_count": 12,
   "id": "collaborative-organic",
   "metadata": {},
   "outputs": [
    {
     "name": "stdout",
     "output_type": "stream",
     "text": [
      "Generated : /Users/danyamamotoevans/GitHub/BFG-PCA/Data/test/normalization/heatmap_F/F_heatmap_Control_1.csv\n",
      "Generated : /Users/danyamamotoevans/GitHub/BFG-PCA/Data/test/normalization/F_heatmap_MTX1_72.csv\n",
      "Generated : /Users/danyamamotoevans/GitHub/BFG-PCA/Data/test/normalization/F_heatmap_MTX10_72.csv\n",
      "Generated : /Users/danyamamotoevans/GitHub/BFG-PCA/Data/test/normalization/F_heatmap_MTX100_72.csv\n",
      "Generated : /Users/danyamamotoevans/GitHub/BFG-PCA/Data/test/normalization/F_heatmap_MTX200_72.csv\n",
      "Generated : /Users/danyamamotoevans/GitHub/BFG-PCA/Data/test/normalization/heatmap_F/F_heatmap_Control_2.csv\n",
      "Generated : /Users/danyamamotoevans/GitHub/BFG-PCA/Data/test/normalization/F_heatmap_MTX1_96.csv\n",
      "Generated : /Users/danyamamotoevans/GitHub/BFG-PCA/Data/test/normalization/F_heatmap_MTX10_96.csv\n",
      "Generated : /Users/danyamamotoevans/GitHub/BFG-PCA/Data/test/normalization/F_heatmap_MTX100_96.csv\n",
      "Generated : /Users/danyamamotoevans/GitHub/BFG-PCA/Data/test/normalization/F_heatmap_MTX200_96.csv\n",
      "Generated : /Users/danyamamotoevans/GitHub/BFG-PCA/Data/test/normalization/strain_abundance_control.csv\n",
      "Generated : /Users/danyamamotoevans/GitHub/BFG-PCA/Data/test/normalization/autoactivity_level.csv\n",
      "Generated : /Users/danyamamotoevans/GitHub/BFG-PCA/Data/test/normalization/heatmap_s/s_heatmap_Control_1.csv\n",
      "PCA MTX1 72\n",
      "Generated : /Users/danyamamotoevans/GitHub/BFG-PCA/Data/test/normalization/heatmap_s/s_heatmap_MTX1_72.csv\n",
      "PCA MTX10 72\n",
      "Generated : /Users/danyamamotoevans/GitHub/BFG-PCA/Data/test/normalization/heatmap_s/s_heatmap_MTX10_72.csv\n",
      "PCA MTX100 72\n",
      "Generated : /Users/danyamamotoevans/GitHub/BFG-PCA/Data/test/normalization/heatmap_s/s_heatmap_MTX100_72.csv\n",
      "PCA MTX200 72\n",
      "Generated : /Users/danyamamotoevans/GitHub/BFG-PCA/Data/test/normalization/heatmap_s/s_heatmap_MTX200_72.csv\n",
      "Generated : /Users/danyamamotoevans/GitHub/BFG-PCA/Data/test/normalization/heatmap_s/s_heatmap_Control_2.csv\n",
      "PCA MTX1 96\n",
      "Generated : /Users/danyamamotoevans/GitHub/BFG-PCA/Data/test/normalization/heatmap_s/s_heatmap_MTX1_96.csv\n",
      "PCA MTX10 96\n",
      "Generated : /Users/danyamamotoevans/GitHub/BFG-PCA/Data/test/normalization/heatmap_s/s_heatmap_MTX10_96.csv\n",
      "PCA MTX100 96\n",
      "Generated : /Users/danyamamotoevans/GitHub/BFG-PCA/Data/test/normalization/heatmap_s/s_heatmap_MTX100_96.csv\n",
      "PCA MTX200 96\n",
      "Generated : /Users/danyamamotoevans/GitHub/BFG-PCA/Data/test/normalization/heatmap_s/s_heatmap_MTX200_96.csv\n",
      "Generated : /Users/danyamamotoevans/GitHub/BFG-PCA/Data/test/normalization/BFG_correlation.csv\n",
      "Generated : /Users/danyamamotoevans/GitHub/BFG-PCA/Data/test/normalization/diploid_correlation.csv\n",
      "Generated : /Users/danyamamotoevans/GitHub/BFG-PCA/Data/test/normalization/screening_rep_correlation.csv\n",
      "Generated : /Users/danyamamotoevans/GitHub/BFG-PCA/Data/test/normalization/ORF_ori_corr.csv\n"
     ]
    }
   ],
   "source": [
    "## Outping stats as csv in 3_Stats_for_plot\n",
    "## List of files to output\n",
    "# 1. strain_abundance_control.csv   [Method,Condtion,Replicate,bait,bait_ORF,prey,prey_ORF,Raw,F\n",
    "# 2. normalized_scores           =  [['Method','Condtion','Replicate','bait','bait_ORF','prey','prey_ORF','s','ds']]\n",
    "# 3. autoactivity_level.csv [Method,Strain_type,Conditon,AA_median,AA_median_rank,Strain]\n",
    "# 4. bfg_corr.csv           [Method,Conditon,score_type,UpUp,DnDn]\n",
    "# 5. diploid_corr.csv       [Method,Conditon,score_type,Diploid1,Diploid2]\n",
    "# 6. screening_rep_corr.csv [Method,Conditon,score_type,Rep1,Rep2]\n",
    "# 7. ORF_ori_corr.csv       [Method,Conditon,score_type,bait_Prey,Prey_Bait] #Average interanal replicates + screeening replicates\n",
    "# 8. screening_meth_corr.csv[score_type,CondA,CondB,ConditonA_score,ConditonB_score] #Average interanal replicates+ screeening replicates\n",
    "\n",
    "data =  norm.reformat(normalized_score)\n",
    "norm.output_stats(raw_s,hap_s,db,norm_dir,\"PCA\")"
   ]
  },
  {
   "cell_type": "code",
   "execution_count": 13,
   "id": "informal-helena",
   "metadata": {},
   "outputs": [
    {
     "name": "stdout",
     "output_type": "stream",
     "text": [
      "Proceed to BFG_performance_measure.ipynb to assess the performance of the screening.\n"
     ]
    }
   ],
   "source": [
    "# Information of each csv will be shown in the BFG-PCA wiki (https://github.com/DanYamamotoEvans/BFG-PCA/wiki)\n",
    "# I will soon update with scripts to vidialize the output.\n",
    "\n",
    "print(\"Proceed to BFG_performance_measure.ipynb to assess the performance of the screening.\")"
   ]
  },
  {
   "cell_type": "code",
   "execution_count": null,
   "id": "driving-strengthening",
   "metadata": {},
   "outputs": [],
   "source": []
  }
 ],
 "metadata": {
  "kernelspec": {
   "display_name": "Python 3",
   "language": "python",
   "name": "python3"
  },
  "language_info": {
   "codemirror_mode": {
    "name": "ipython",
    "version": 3
   },
   "file_extension": ".py",
   "mimetype": "text/x-python",
   "name": "python",
   "nbconvert_exporter": "python",
   "pygments_lexer": "ipython3",
   "version": "3.6.1"
  }
 },
 "nbformat": 4,
 "nbformat_minor": 5
}
