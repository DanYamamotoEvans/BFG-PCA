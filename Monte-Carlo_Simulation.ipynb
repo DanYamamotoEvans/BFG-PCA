{
 "cells": [
  {
   "cell_type": "code",
   "execution_count": 1,
   "id": "polar-travel",
   "metadata": {},
   "outputs": [],
   "source": [
    "# coding: utf-8\n",
    "import ast\n",
    "import os\n",
    "import sys\n",
    "import re\n",
    "from pprint import pprint\n",
    "import numpy as np\n",
    "from tqdm import tqdm\n",
    "import matplotlib.pyplot as plt\n",
    "\n",
    "\n",
    "from func import simulation as sim\n",
    "\n",
    "run_name = \"test\"\n",
    "if not os.path.isdir(run_name):\n",
    "    os.makedirs(run_name)\n",
    "    os.makedirs(\"%s/csv\"%(run_name))\n",
    "    os.makedirs(\"%s/pdf\"%(run_name))"
   ]
  },
  {
   "cell_type": "code",
   "execution_count": 2,
   "id": "democratic-blackjack",
   "metadata": {},
   "outputs": [],
   "source": [
    "##############################################\n",
    "# Monte-Carlo simulation of BFG-Y2H screen   #\n",
    "# Initially developped by Nozomu Yachie      #\n",
    "# Last modified by Daniel Evans-Yamamoto     #\n",
    "##############################################\n",
    "\n",
    "\n",
    "# PARAMETER DEFINITIONS ##################################################################################\n",
    "#\n",
    "# 01. CV (coefficient of variation) of strain abundances (log-normal distribution) in haploid pools is 30%\n",
    "# 02. Yeast mating efficiency of Y2H is 1% (underestimation)\n",
    "# 03. CV of X-Y pair-dependent mating efficiencies (log-normal distribution) is 50%\n",
    "# 04. CV of X-Y pair-dependent growth amplitudes (log-normal distribution) in liquid media is 50%\n",
    "# 05. Y2H positive rate is 0.1% (overestimation)\n",
    "# 06. CV of X-dependent growth amplitudes (DB-X auto-activity, log-normal distribution) in Y2H-selectable condition is 100%\n",
    "# 07. CV of X-Y pair-dependent growth amplitudes (log-normal distribution) in Y2H-selectable condition is 10000%\n",
    "# 08. CV of X-Y pair-dependent growth amplitudes (log-normal distribution) in non-selectable condition is 10%\n",
    "# 09. CV of X-Y pair-dependent PCR amplitudes (log-normal distribution) is 50%\n",
    "# 10. Read depth of Illumina sequencing in each screen is 10,000,000\n",
    "#\n",
    "# 11. Yeast DNA miniprep yield from 3 × 10^7 diploid yeast cells is 20 ng\n",
    "# 12. Fraction of Y2H plasmids in yeast DNA miniprep product is 6% of the total DNA mass\n",
    "# 13. Barcode fusion efficiency is 20%\n",
    "#\n",
    "# 14. Y2H plasmid sizes are 10 kbp\n",
    "# 15. 1 mole of double-stranded DNA molecule is 660 g bp^-1\n",
    "# 16. 1 OD(600 nm) unit for haploid yeast is 3 × 10^7 cells ml^-1\n",
    "# 17. 1 OD(600 nm) unit for diploid yeast is 1 × 10^7 cells ml^-1\n",
    "#\n",
    "##########################################################################################################\n"
   ]
  },
  {
   "cell_type": "code",
   "execution_count": 3,
   "id": "auburn-acceptance",
   "metadata": {},
   "outputs": [],
   "source": [
    "# Define teh number of strains here;\n",
    "x_strain_num = 500\n",
    "y_strain_num = 500"
   ]
  },
  {
   "cell_type": "code",
   "execution_count": 4,
   "id": "raised-phone",
   "metadata": {},
   "outputs": [],
   "source": [
    "# Setting haploid population\n",
    "x_hap = np.zeros(x_strain_num)\n",
    "x_hap+=1\n",
    "y_hap = np.zeros(y_strain_num)\n",
    "y_hap+=1"
   ]
  },
  {
   "cell_type": "code",
   "execution_count": 5,
   "id": "romantic-startup",
   "metadata": {},
   "outputs": [],
   "source": [
    "hap_size = 10 * 3*10**7; # 1 OD unit of haploid cells = 3 x 10^7 \n",
    "\n",
    "\n",
    "# Adjusting the cell number of each strain in pool.\n",
    "x_hap = sim.adjust_num(x_hap,0.3,hap_size)\n",
    "y_hap = sim.adjust_num(y_hap,0.3,hap_size)\n",
    "    \n",
    "cov = sim.hap_coverage(x_hap,y_hap,run_name)\n",
    "\n"
   ]
  },
  {
   "cell_type": "code",
   "execution_count": 11,
   "id": "victorian-extreme",
   "metadata": {},
   "outputs": [
    {
     "name": "stdout",
     "output_type": "stream",
     "text": [
      "The ratio of strains having at lesat the number of cells above threshold.\n",
      "Cells per haploid pool: 10 OD600nm units\n",
      "Cells    \tx_percentage\ty_percentage\n",
      "1        \t100.0    \t100.0    \n",
      "10       \t100.0    \t100.0    \n",
      "100      \t100.0    \t100.0    \n",
      "1000     \t100.0    \t100.0    \n",
      "10000    \t100.0    \t100.0    \n",
      "100000   \t100.0    \t100.0    \n",
      "1000000  \t83.4     \t3.6      \n",
      "10000000 \t0.0      \t0.0      \n"
     ]
    }
   ],
   "source": [
    "print(\"The ratio of strains having at lesat the number of cells above threshold.\")\n",
    "print(\"Cells per haploid pool: %d OD600nm units\"%(hap_size/(3*10**7)))\n",
    "sim.print_LL(cov)"
   ]
  },
  {
   "cell_type": "code",
   "execution_count": null,
   "id": "aboriginal-colon",
   "metadata": {},
   "outputs": [],
   "source": []
  },
  {
   "cell_type": "code",
   "execution_count": 7,
   "id": "bridal-diameter",
   "metadata": {},
   "outputs": [
    {
     "ename": "SyntaxError",
     "evalue": "Missing parentheses in call to 'print' (<ipython-input-7-32d5e58fc218>, line 2)",
     "output_type": "error",
     "traceback": [
      "\u001b[0;36m  File \u001b[0;32m\"<ipython-input-7-32d5e58fc218>\"\u001b[0;36m, line \u001b[0;32m2\u001b[0m\n\u001b[0;31m    print 'BEGIN: haploid pool'.\"\\n\";\u001b[0m\n\u001b[0m                              ^\u001b[0m\n\u001b[0;31mSyntaxError\u001b[0m\u001b[0;31m:\u001b[0m Missing parentheses in call to 'print'\n"
     ]
    }
   ],
   "source": [
    "{\n",
    "  print 'BEGIN: haploid pool'.\"\\n\";\n",
    "  print 'DESCRIPTION: simulating haploid pool queried to yeast mating'.\"\\n\";\n",
    "\n",
    "  {\n",
    "    print 'BEGIN: x_hap strain coverage'.\"\\n\";\n",
    "    print \"\\#cells\\tcoverage\\n\";\n",
    "    my $table = &coverage($x_hap,6,10);\n",
    "    &print_table($table);\n",
    "    print 'END: x_hap strain coverage'.\"\\n\";\n",
    "  }\n",
    "  {\n",
    "    print 'BEGIN: y_hap strain coverage'.\"\\n\";\n",
    "    print \"\\#cells\\tcoverage\\n\";\n",
    "    my $table = &coverage($y_hap,6,10);\n",
    "    &print_table($table);\n",
    "    print 'END: y_hap strain coverage'.\"\\n\";\n",
    "  }\n",
    "  {\n",
    "    print 'BEGIN: x_hap strain distribution'.\"\\n\";\n",
    "    my $dist_f = &logf_dist($x_hap,0.2,1);\n",
    "    print \"\\#log_f\\(x cells\\)\\tprob\\n\";\n",
    "    &print_logf_dist($dist_f,0.2,-4,0);\n",
    "\n",
    "    my ($mean,$sigma,$CV) = &mean_sigma($x_hap);\n",
    "    print 'MEAN_SIGMA_CV: '.\"$mean\\,$sigma\\,$CV\\n\";\n",
    "    print 'END: x_hap strain distribution'.\"\\n\";\n",
    "  }\n",
    "  {\n",
    "    print 'BEGIN: y_hap strain distribution'.\"\\n\";\n",
    "    my $dist_f = &logf_dist($y_hap,0.2,1);\n",
    "    print \"\\#log_f\\(y cells\\)\\tprob\\n\";\n",
    "    &print_logf_dist($dist_f,0.2,-4,0);\n",
    "\n",
    "    my ($mean,$sigma,$CV) = &mean_sigma($y_hap);\n",
    "    print 'MEAN_SIGMA_CV: '.\"$mean\\,$sigma\\,$CV\\n\";\n",
    "    print 'END: y_hap strain distribution'.\"\\n\";\n",
    "  }\n",
    "\n",
    "  print 'END: haploid pool'.\"\\n\";\n",
    "}\n"
   ]
  },
  {
   "cell_type": "code",
   "execution_count": null,
   "id": "infrared-fleet",
   "metadata": {},
   "outputs": [],
   "source": []
  }
 ],
 "metadata": {
  "kernelspec": {
   "display_name": "Python 3",
   "language": "python",
   "name": "python3"
  },
  "language_info": {
   "codemirror_mode": {
    "name": "ipython",
    "version": 3
   },
   "file_extension": ".py",
   "mimetype": "text/x-python",
   "name": "python",
   "nbconvert_exporter": "python",
   "pygments_lexer": "ipython3",
   "version": "3.6.1"
  }
 },
 "nbformat": 4,
 "nbformat_minor": 5
}
