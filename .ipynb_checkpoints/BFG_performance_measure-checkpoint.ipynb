{
 "cells": [
  {
   "cell_type": "code",
   "execution_count": null,
   "id": "solid-prescription",
   "metadata": {},
   "outputs": [],
   "source": [
    "# coding: utf-8\n",
    "import ast\n",
    "import os\n",
    "import sys\n",
    "import re\n",
    "from pprint import pprint\n",
    "import numpy as np\n",
    "from tqdm import tqdm\n",
    "\n",
    "from func import performance_measure as mcc\n",
    "\n",
    "##############################################\n",
    "# JUPYTER-NOTEBOOK FOR COMPUTING PERFORMANCE #\n",
    "# OF BFG-PCA SCREENINGS                      #\n",
    "# Last modified by Daniel Evans-Yamamoto     #\n",
    "##############################################\n",
    "\n",
    "PATH = os.path.abspath(\".\")\n",
    "run_name = \"test\"\n",
    "mcc_dir = '%s/Data/%s/MCC'%(PATH,run_name)\n",
    "norm_dir = '%s/Data/%s/normalization'%(PATH,run_name)\n",
    "if not os.path.isdir(mcc_dir):\n",
    "    os.makedirs(mcc_dir)\n",
    "    os.makedirs(\"%s/all_conditions\"%mcc_dir)"
   ]
  },
  {
   "cell_type": "code",
   "execution_count": null,
   "id": "complex-picture",
   "metadata": {},
   "outputs": [],
   "source": [
    "norm_scores =  \"%s/BFG-PCA_PPI_scores_Normalized_Median.csv\"%(norm_dir)\n",
    "\n",
    "db             = mcc.get_mapdata('%s/%s/%s_database.csv'%(PATH,run_name,run_name))#Change this to your own file. Read wiki for instructions.\n",
    "\n",
    "#mcc.parse_scores(norm_scores,mcc_dir)"
   ]
  },
  {
   "cell_type": "code",
   "execution_count": null,
   "id": "consolidated-tuesday",
   "metadata": {},
   "outputs": [],
   "source": [
    "# Parsing known PPIs from BioGRID database.\n",
    "#Download appropriate file from https://downloads.thebiogrid.org/BioGRID\n",
    "biogrid = \"/Users/danyamamotoevans/Downloads/BIOGRID-ALL-4.4.198.tab3.txt\" #PATH TO BIOGRID-ALL-4.4.198.tab3.txt\n",
    "taxids = {559292:\"Sc\"} #Put taxids of species you screened\n",
    "known_ppis = mcc.parse_biogirdtab3(biogrid,taxids)"
   ]
  },
  {
   "cell_type": "code",
   "execution_count": null,
   "id": "honest-probability",
   "metadata": {},
   "outputs": [],
   "source": [
    "#pprint(known_ppis)"
   ]
  },
  {
   "cell_type": "code",
   "execution_count": null,
   "id": "overall-medicare",
   "metadata": {},
   "outputs": [],
   "source": [
    "for sp in taxids:\n",
    "    if not os.path.isdir(\"%s/all_conditions/%s\"%(mcc_dir,taxids[sp])):\n",
    "        os.makedirs(\"%s/all_conditions/%s\"%(mcc_dir,taxids[sp]))\n",
    "    BEST_condition =    mcc.compute_best_MCC(norm_scores,mcc_dir,known_ppis,taxids[sp])\n",
    "    \n",
    "    print(\"\\n\\n\\n\\nBest performing condition for %s proteins was: %s\"%(taxids[sp],BEST_condition))"
   ]
  },
  {
   "cell_type": "code",
   "execution_count": null,
   "id": "olive-badge",
   "metadata": {},
   "outputs": [],
   "source": [
    "# The following is for ploting the result using the R scripts.\n",
    "mcc.parse_scores(BEST_condition,mcc_dir)"
   ]
  },
  {
   "cell_type": "code",
   "execution_count": null,
   "id": "operational-climate",
   "metadata": {},
   "outputs": [],
   "source": [
    "print(\"Your done with performance measure. Continue to plot the results using the BFG_visualization.ipynb\")"
   ]
  },
  {
   "cell_type": "code",
   "execution_count": null,
   "id": "visible-constitutional",
   "metadata": {},
   "outputs": [],
   "source": []
  }
 ],
 "metadata": {
  "kernelspec": {
   "display_name": "Python 3",
   "language": "python",
   "name": "python3"
  },
  "language_info": {
   "codemirror_mode": {
    "name": "ipython",
    "version": 3
   },
   "file_extension": ".py",
   "mimetype": "text/x-python",
   "name": "python",
   "nbconvert_exporter": "python",
   "pygments_lexer": "ipython3",
   "version": "3.6.1"
  }
 },
 "nbformat": 4,
 "nbformat_minor": 5
}
