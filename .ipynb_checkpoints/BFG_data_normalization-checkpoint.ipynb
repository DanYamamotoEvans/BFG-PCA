{
 "cells": [
  {
   "cell_type": "code",
   "execution_count": null,
   "id": "raising-combine",
   "metadata": {},
   "outputs": [],
   "source": [
    "# coding: utf-8\n",
    "import ast\n",
    "import os\n",
    "import sys\n",
    "import re\n",
    "from pprint import pprint\n",
    "import numpy as np\n",
    "from tqdm import tqdm\n",
    "\n",
    "from func import bfg\n",
    "\n",
    "##############################################\n",
    "# Monte-Carlo simulation of BFG-Y2H screen   #\n",
    "# Initially developped by Nozomu Yachie      #\n",
    "# Last modified by Daniel Evans-Yamamoto     #\n",
    "##############################################\n",
    "\n",
    "PATH = os.path.abspath(\".\")\n",
    "run_name = \"test\"\n",
    "\n",
    "if not os.path.isdir('%s/Data/%s'%(PATH,run_name)):\n",
    "    os.makedirs('%s/Data/%s'%(PATH,run_name))\n",
    "    os.makedirs('%s/Data/%s/csv'%(PATH,run_name))\n",
    "    os.makedirs('%s/Data/%s/pdf'%(PATH,run_name))"
   ]
  }
 ],
 "metadata": {
  "kernelspec": {
   "display_name": "Python 3",
   "language": "python",
   "name": "python3"
  },
  "language_info": {
   "codemirror_mode": {
    "name": "ipython",
    "version": 3
   },
   "file_extension": ".py",
   "mimetype": "text/x-python",
   "name": "python",
   "nbconvert_exporter": "python",
   "pygments_lexer": "ipython3",
   "version": "3.6.1"
  }
 },
 "nbformat": 4,
 "nbformat_minor": 5
}
