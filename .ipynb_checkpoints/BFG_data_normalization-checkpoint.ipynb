{
 "cells": [
  {
   "cell_type": "code",
   "execution_count": null,
   "id": "raising-combine",
   "metadata": {},
   "outputs": [],
   "source": [
    "# coding: utf-8\n",
    "import ast\n",
    "import os\n",
    "import sys\n",
    "import re\n",
    "from pprint import pprint\n",
    "import numpy as np\n",
    "from tqdm import tqdm\n",
    "\n",
    "from func import normalization as norm\n",
    "\n",
    "##############################################\n",
    "# JUPYTER-NOTEBOOK FOR NORMALIZING BARCODE   #\n",
    "# COUNTS FROM BFG-PCA SCREENINGS             #\n",
    "# Last modified by Daniel Evans-Yamamoto     #\n",
    "##############################################\n",
    "\n",
    "PATH = os.path.abspath(\".\") # Path to Where you want to have the data. Default is in the BFG-PCA folder. \n",
    "run_name = \"test\"\n",
    "\n",
    "norm_dir = '%s/Data/%s/normalization'%(PATH,run_name)\n",
    "stats_dir = '%s/Data/%s/stats'%(PATH,run_name)\n",
    "if not os.path.isdir(norm_dir):\n",
    "    os.makedirs(norm_dir)\n",
    "if not os.path.isdir(stats_dir):\n",
    "    os.makedirs(stats_dir)"
   ]
  },
  {
   "cell_type": "code",
   "execution_count": null,
   "id": "previous-button",
   "metadata": {},
   "outputs": [],
   "source": [
    "#  Definfing the file location\n",
    "count_f        = \"%s/Data/%s/barcode_counts/counts.txt\"%(PATH,run_name)\n",
    "\n",
    "#  Reading dict object from the text files with count data\n",
    "count     = norm.reading(count_f)\n",
    "# Reading tag information and barcode database \n",
    "multiplex_tag  = norm.get_tagdata('%s/%s/%s_tag.csv'%(PATH,run_name,run_name))#Change this to your own file. Read wiki for instructions.\n",
    "db             = norm.get_mapdata('%s/%s/%s_database.csv'%(PATH,run_name,run_name))#Change this to your own file. Read wiki for instructions."
   ]
  },
  {
   "cell_type": "code",
   "execution_count": null,
   "id": "complimentary-franklin",
   "metadata": {},
   "outputs": [],
   "source": [
    "# Examine total reads;\n",
    "norm.tot_reads(count,multiplex_tag)"
   ]
  },
  {
   "cell_type": "code",
   "execution_count": null,
   "id": "arbitrary-mission",
   "metadata": {},
   "outputs": [],
   "source": [
    "#pprint(count)"
   ]
  },
  {
   "cell_type": "code",
   "execution_count": null,
   "id": "prerequisite-tuning",
   "metadata": {},
   "outputs": [],
   "source": [
    "# Organize dict of reads per strain\n",
    "count_2 =  norm.organize_data(count,db,multiplex_tag,\"PCA\")"
   ]
  },
  {
   "cell_type": "code",
   "execution_count": null,
   "id": "emerging-status",
   "metadata": {},
   "outputs": [],
   "source": [
    "# Eliminating strains present in less than 90% of diploids\n",
    "\n",
    "count_3 = norm.absent(count_2,0.9,\"PCA\")\n",
    "\n",
    "count_sums = norm.get_sums(count_3,multiplex_tag,\"PCA\",db)\n",
    "\n",
    "\n"
   ]
  },
  {
   "cell_type": "code",
   "execution_count": null,
   "id": "extreme-latest",
   "metadata": {},
   "outputs": [],
   "source": [
    "# Normalize scores based on strain abundance of bait and prey haploids in Control condition\n",
    "\n",
    "raw_s,hap_s  = norm.compute_s(count_3,count_sums,db,multiplex_tag,\"PCA\")"
   ]
  },
  {
   "cell_type": "code",
   "execution_count": null,
   "id": "happy-westminster",
   "metadata": {},
   "outputs": [],
   "source": [
    "# Organizing data and counting haploid strains\n",
    "reps= norm.count_haploids(hap_s,norm_dir,db)\n",
    "norm.haploid_replicates(reps,norm_dir)"
   ]
  },
  {
   "cell_type": "code",
   "execution_count": null,
   "id": "tracked-probability",
   "metadata": {},
   "outputs": [],
   "source": [
    "## Normalize signal 's'\n",
    "## For Y2H ; Normalize data by Nth quantile of bait 'median distribution' of 's' score\n",
    "## For PCA ; Normalize data by median 's' score of both bait and prey \n",
    "\n",
    "normalized_score,hap_s = norm.compute_ds(raw_s,count_sums,db,multiplex_tag,\"PCA\")\n"
   ]
  },
  {
   "cell_type": "code",
   "execution_count": null,
   "id": "trying-schema",
   "metadata": {},
   "outputs": [],
   "source": [
    "norm.output_norm_score(normalized_score,db,norm_dir)"
   ]
  },
  {
   "cell_type": "code",
   "execution_count": null,
   "id": "greatest-buyer",
   "metadata": {},
   "outputs": [],
   "source": [
    "#pprint(hap_s)"
   ]
  },
  {
   "cell_type": "code",
   "execution_count": null,
   "id": "collaborative-organic",
   "metadata": {},
   "outputs": [],
   "source": [
    "## Outping stats as csv in 3_Stats_for_plot\n",
    "## List of files to output\n",
    "# 1. strain_abundance_control.csv   [Method,Condtion,Replicate,bait,bait_ORF,prey,prey_ORF,Raw,F\n",
    "# 2. normalized_scores           =  [['Method','Condtion','Replicate','bait','bait_ORF','prey','prey_ORF','s','ds']]\n",
    "# 3. autoactivity_level.csv [Method,Strain_type,Conditon,AA_median,AA_median_rank,Strain]\n",
    "# 4. bfg_corr.csv           [Method,Conditon,score_type,UpUp,DnDn]\n",
    "# 5. diploid_corr.csv       [Method,Conditon,score_type,Diploid1,Diploid2]\n",
    "# 6. screening_rep_corr.csv [Method,Conditon,score_type,Rep1,Rep2]\n",
    "# 7. ORF_ori_corr.csv       [Method,Conditon,score_type,bait_Prey,Prey_Bait] #Average interanal replicates + screeening replicates\n",
    "# 8. screening_meth_corr.csv[score_type,CondA,CondB,ConditonA_score,ConditonB_score] #Average interanal replicates+ screeening replicates\n",
    "\n",
    "data =  norm.reformat(normalized_score)\n",
    "norm.output_stats(raw_s,hap_s,db,norm_dir,\"PCA\")"
   ]
  },
  {
   "cell_type": "code",
   "execution_count": null,
   "id": "informal-helena",
   "metadata": {},
   "outputs": [],
   "source": [
    "# Information of each csv will be shown in the BFG-PCA wiki (https://github.com/DanYamamotoEvans/BFG-PCA/wiki)\n",
    "# I will soon update with scripts to vidialize the output.\n",
    "\n",
    "print(\"Proceed to BFG_performance_measure.ipynb to assess the performance of the screening.\")"
   ]
  },
  {
   "cell_type": "code",
   "execution_count": null,
   "id": "driving-strengthening",
   "metadata": {},
   "outputs": [],
   "source": []
  }
 ],
 "metadata": {
  "kernelspec": {
   "display_name": "Python 3",
   "language": "python",
   "name": "python3"
  },
  "language_info": {
   "codemirror_mode": {
    "name": "ipython",
    "version": 3
   },
   "file_extension": ".py",
   "mimetype": "text/x-python",
   "name": "python",
   "nbconvert_exporter": "python",
   "pygments_lexer": "ipython3",
   "version": "3.6.1"
  }
 },
 "nbformat": 4,
 "nbformat_minor": 5
}
