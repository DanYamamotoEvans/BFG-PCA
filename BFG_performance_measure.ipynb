{
 "cells": [
  {
   "cell_type": "code",
   "execution_count": 2,
   "id": "solid-prescription",
   "metadata": {},
   "outputs": [],
   "source": [
    "# coding: utf-8\n",
    "import ast\n",
    "import os\n",
    "import sys\n",
    "import re\n",
    "from pprint import pprint\n",
    "import numpy as np\n",
    "from tqdm import tqdm\n",
    "\n",
    "from func import performance_measure as mcc\n",
    "\n",
    "##############################################\n",
    "# JUPYTER-NOTEBOOK FOR COMPUTING PERFORMANCE #\n",
    "# OF BFG-PCA SCREENINGS                      #\n",
    "# Last modified by Daniel Evans-Yamamoto     #\n",
    "##############################################\n",
    "\n",
    "PATH = os.path.abspath(\".\")\n",
    "run_name = \"test\"\n",
    "mcc_dir = '%s/Data/%s/MCC'%(PATH,run_name)\n",
    "if not os.path.isdir(mcc_dir):\n",
    "    os.makedirs(mcc_dir)"
   ]
  },
  {
   "cell_type": "code",
   "execution_count": null,
   "id": "sapphire-plymouth",
   "metadata": {},
   "outputs": [],
   "source": []
  }
 ],
 "metadata": {
  "kernelspec": {
   "display_name": "Python 3",
   "language": "python",
   "name": "python3"
  },
  "language_info": {
   "codemirror_mode": {
    "name": "ipython",
    "version": 3
   },
   "file_extension": ".py",
   "mimetype": "text/x-python",
   "name": "python",
   "nbconvert_exporter": "python",
   "pygments_lexer": "ipython3",
   "version": "3.6.1"
  }
 },
 "nbformat": 4,
 "nbformat_minor": 5
}
