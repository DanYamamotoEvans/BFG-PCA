{
 "cells": [
  {
   "cell_type": "code",
   "execution_count": 41,
   "id": "refined-vertex",
   "metadata": {},
   "outputs": [],
   "source": [
    "# coding: utf-8\n",
    "import ast\n",
    "import os\n",
    "import sys\n",
    "import re\n",
    "from pprint import pprint\n",
    "import numpy as np\n",
    "from tqdm import tqdm\n",
    "\n",
    "from func import normalization as norm\n",
    "\n",
    "##############################################\n",
    "# JUPYTER-NOTEBOOK FOR COMPUTING PERFORMANCE #\n",
    "# OF BFG-PCA SCREENINGS                      #\n",
    "# Last modified by Daniel Evans-Yamamoto     #\n",
    "##############################################\n",
    "\n",
    "PATH       = os.path.abspath(\".\") # Path to Where you want to have the data. Default is in the BFG-PCA folder. \n",
    "run_name   = \"test\"\n",
    "script_dir = '%s/Rscripts'%(PATH)\n",
    "plot_dir   = '%s/Data/%s/plots'%(PATH,run_name)\n",
    "\n",
    "if not os.path.isdir(plot_dir):\n",
    "    os.makedirs(plot_dir)"
   ]
  },
  {
   "cell_type": "code",
   "execution_count": 25,
   "id": "automatic-wealth",
   "metadata": {},
   "outputs": [],
   "source": [
    "# List of plots which will be generated\n",
    "# For more details, go to the BFG-PCA wiki.\n",
    "# 1. Distribution of marginal barcode abundance (histogram; representing abundance of haploid strains)\n",
    "# 2. Distribution of barcode replicates per ORF (histogram)\n",
    "# 3. Distribution of fused barcode abundance in each condition (histogram and heatmap)  \n",
    "# 4. Distribution of raw inteaction signal in each delection condition (heatmap)\n",
    "# 5. Rank plot of autoactivity of each strain (scatter plot)\n",
    "# 6. Correlation plot of raw inteaction signals between BC1-BC1 and BC2-BC2 barcode fusion replicates for each fused barcodes (scatter plot) \n",
    "# 7. Correlation plot of raw inteaction signals between diploid replicates for each PPI paie, excluding combinations which share the same haploid strains before mating (scatter plot) \n",
    "# 8. Correlation plot of raw inteaction signals between screening replicates (scatter plot)\n",
    "# 9. Distribution of number of replicates observed for each protein pair (histogram)\n",
    "#10. Rank plot of top hits in the screening (Scatter plot + heatmap)\n",
    "\n",
    "# List files to plot the graphs as above\n",
    "haploid_marginal     = '%s/Data/%s/normalization/Haploid_F.csv'%(PATH,run_name) \n",
    "haploid_barcode_reps = '%s/Data/%s/normalization/Haploid_n.csv'%(PATH,run_name) \n",
    "diploid_F            = '%s/Data/%s/normalization/heatmap_F'%(PATH,run_name) #This is a directory \n",
    "diploid_s            = '%s/Data/%s/normalization/heatmap_s'%(PATH,run_name) #This is a directory \n",
    "autoactivity         = '%s/Data/%s/normalization/autoactivity_level.csv'%(PATH,run_name) \n",
    "corr_BFGtype         = '%s/Data/%s/normalization/BFG_correlation.csv'%(PATH,run_name) \n",
    "corr_diploids        = '%s/Data/%s/normalization/diploid_correlation.csv'%(PATH,run_name) \n",
    "corr_screening       = '%s/Data/%s/normalization/screening_rep_correlation.csv'%(PATH,run_name) \n",
    "scores               = '%s/Data/%s/MCC/SCORES_BFG-PCA_MTX200_Median_Percentile_45_for_plot.csv'%(PATH,run_name) "
   ]
  },
  {
   "cell_type": "code",
   "execution_count": 13,
   "id": "visible-decrease",
   "metadata": {},
   "outputs": [
    {
     "name": "stdout",
     "output_type": "stream",
     "text": [
      "Executing ;\n",
      "\n",
      "\n",
      "Rscript /Users/danyamamotoevans/GitHub/BFG-PCA/Rscripts/strain_histogram_haploid.r /Users/danyamamotoevans/GitHub/BFG-PCA/Data/test/normalization/Haploid_F.csv /Users/danyamamotoevans/GitHub/BFG-PCA/Data/test/plots/Haploid_F.pdf 2.50 2.50 8.00 8.00\n",
      "\n",
      "\n",
      "[1] \"ggplot2 is loaded correctly\"\n",
      "[1] \"scales is loaded correctly\"\n",
      "[1] \"cowplot is loaded correctly\"\n",
      "[1] \"grid is loaded correctly\"\n",
      "[1] \"gridExtra is loaded correctly\"\n",
      "[1] \"stringr is loaded correctly\"\n",
      "[1] \"egg is loaded correctly\"\n",
      "[1] \"/Users/danyamamotoevans/GitHub/BFG-PCA/Data/test/plots/Haploid_F.pdf\"\n",
      "\n"
     ]
    }
   ],
   "source": [
    "# Distribution of barcode replicates per ORF (histogram)\n",
    "\"\"\"\n",
    "Data structure: Haploid_n.csv\n",
    "Screeening\t    Ori\t    Strain\t            F\n",
    "PCA Control_1\tDHFR3\tDHFR3_ScPRS_03-BC1\t0.099510531\n",
    "PCA Control_1\tDHFR3\tDHFR3_ScPRS_03-BC2\t0.034037403\n",
    "\"\"\"\n",
    "\n",
    "out_file = haploid_marginal.split(\"/\")[-1].split(\".\")[0]\n",
    "panel_width  = 2.5 #cm  \n",
    "panel_height = 2.5 #cm\n",
    "pdf_width    = 8\n",
    "pdf_height   = 8\n",
    "\n",
    "command = \"Rscript %s/strain_histogram_haploid.r %s %s/%s.pdf %.2f %.2f %.2f %.2f\"%(script_dir,haploid_marginal,plot_dir,out_file,panel_width,panel_height,pdf_width,pdf_height)\n",
    "print(\"Executing ;\\n\\n\\n%s\\n\\n\"%(command))\n",
    "print(os.popen(command).read())\n"
   ]
  },
  {
   "cell_type": "code",
   "execution_count": 19,
   "id": "ideal-mumbai",
   "metadata": {},
   "outputs": [
    {
     "name": "stdout",
     "output_type": "stream",
     "text": [
      "Executing ;\n",
      "\n",
      "\n",
      "Rscript /Users/danyamamotoevans/GitHub/BFG-PCA/Rscripts/strain_histogram_barcode_n.r /Users/danyamamotoevans/GitHub/BFG-PCA/Data/test/normalization/haplliod_n.csv /Users/danyamamotoevans/GitHub/BFG-PCA/Data/test/plots/haplliod_n.pdf 2.50 2.50 8.00 8.00\n",
      "\n",
      "\n",
      "[1] \"ggplot2 is loaded correctly\"\n",
      "[1] \"scales is loaded correctly\"\n",
      "[1] \"cowplot is loaded correctly\"\n",
      "[1] \"grid is loaded correctly\"\n",
      "[1] \"gridExtra is loaded correctly\"\n",
      "[1] \"stringr is loaded correctly\"\n",
      "[1] \"egg is loaded correctly\"\n",
      "[1] \"/Users/danyamamotoevans/GitHub/BFG-PCA/Data/test/plots/haplliod_n.pdf\"\n",
      "\n"
     ]
    }
   ],
   "source": [
    "# Plot distribution of marginal barcode abundance (histogram; representing abundance of haploid strains)\n",
    "\"\"\"\n",
    "Data structure: Haploid_n.csv\n",
    "Cond\tRep\tori\t    n\n",
    "Control\t1\tDHFR3\t2\n",
    "Control\t1\tDHFR3\t1\n",
    "\"\"\"\n",
    "\n",
    "out_file = haploid_barcode_reps.split(\"/\")[-1].split(\".\")[0]\n",
    "panel_width  = 2.5 #cm  \n",
    "panel_height = 2.5 #cm\n",
    "pdf_width    = 8\n",
    "pdf_height   = 8\n",
    "\n",
    "command = \"Rscript %s/strain_histogram_barcode_n.r %s %s/%s.pdf %.2f %.2f %.2f %.2f\"%(script_dir,haploid_barcode_reps,plot_dir,out_file,panel_width,panel_height,pdf_width,pdf_height)\n",
    "print(\"Executing ;\\n\\n\\n%s\\n\\n\"%(command))\n",
    "print(os.popen(command).read())\n"
   ]
  },
  {
   "cell_type": "code",
   "execution_count": 72,
   "id": "forty-nirvana",
   "metadata": {},
   "outputs": [
    {
     "name": "stdout",
     "output_type": "stream",
     "text": [
      "Generated : /Users/danyamamotoevans/GitHub/BFG-PCA/Data/test/plots/F_heatmap_merged.csv\n",
      "Executing ;\n",
      "\n",
      "\n",
      "Rscript /Users/danyamamotoevans/GitHub/BFG-PCA/Rscripts/heatmap_F.r /Users/danyamamotoevans/GitHub/BFG-PCA/Data/test/plots/F_heatmap_merged.csv /Users/danyamamotoevans/GitHub/BFG-PCA/Data/test/plots/F_heatmap_merged.pdf 4.00 4.00 30.00 20.00\n",
      "\n",
      "\n",
      "NULL\n",
      "NULL\n",
      "NULL\n",
      "NULL\n",
      "NULL\n",
      "NULL\n",
      "\n"
     ]
    }
   ],
   "source": [
    "# Distribution of fused barcode abundance in each condition (histogram and heatmap)  \n",
    "\"\"\"\n",
    "Data structure: F_heatmap_*.csv\n",
    "Method\tCondition\tReplicate\tbait\tbait_ORF\tbait_ID\tprey\tprey_ORF\tprey_ID\tbait_bc\tprey_bc\tRaw\tF\n",
    "PCA\tControl\t1\tDHFR3_ScPRS_03\tNSP1\t1BC1\tDHFR12_ScPRS_01\tNSP1\t1BC1\tBC1\tBC1\t82\t0.00462411\n",
    "PCA\tControl\t1\tDHFR3_ScPRS_03\tNSP1\t1BC2\tDHFR12_ScPRS_01\tNSP1\t1BC1\tBC2\tBC1\t39\t0.002241707\"\"\"\n",
    "\n",
    "Fs = [ f for f in os.listdir(diploid_F) if (f[-4:]==\".csv\")]\n",
    "\n",
    "LL = [[\"Method\",\"Condition\",\"Replicate\",\"bait\",\"bait_ORF\",\"bait_ID\",\"prey\",\"prey_ORF\",\"prey_ID\",\"bait_bc\",\"prey_bc\",\"Raw\",\"F\"]]\n",
    "for f in Fs:\n",
    "    LL += norm.csv2LL(\"%s/%s\"%(diploid_F,f))[1:]\n",
    "norm.LL2csv(LL,\"%s/F_heatmap_merged.csv\"%(plot_dir))\n",
    "\n",
    "f = \"%s/F_heatmap_merged.csv\"%(plot_dir)\n",
    "out_file = f.split(\"/\")[-1].split(\".\")[0]\n",
    "panel_width  = 4.0 #cm  \n",
    "panel_height = 4.0 #cm\n",
    "pdf_width    = 30.0\n",
    "pdf_height   = 20.0\n",
    "\n",
    "command = \"Rscript %s/heatmap_F.r %s %s/%s.pdf %.2f %.2f %.2f %.2f\"%(script_dir,f,plot_dir,out_file,panel_width,panel_height,pdf_width,pdf_height)\n",
    "print(\"Executing ;\\n\\n\\n%s\\n\\n\"%(command))\n",
    "print(os.popen(command).read())\n"
   ]
  },
  {
   "cell_type": "code",
   "execution_count": 80,
   "id": "refined-uzbekistan",
   "metadata": {},
   "outputs": [
    {
     "name": "stdout",
     "output_type": "stream",
     "text": [
      "Generated : /Users/danyamamotoevans/GitHub/BFG-PCA/Data/test/plots/s_heatmap_merged.csv\n",
      "Executing ;\n",
      "\n",
      "\n",
      "Rscript /Users/danyamamotoevans/GitHub/BFG-PCA/Rscripts/heatmap_s.r /Users/danyamamotoevans/GitHub/BFG-PCA/Data/test/plots/s_heatmap_merged.csv /Users/danyamamotoevans/GitHub/BFG-PCA/Data/test/plots/s_heatmap_merged.pdf 4.00 4.00 30.00 20.00\n",
      "\n",
      "\n",
      "NULL\n",
      "NULL\n",
      "NULL\n",
      "NULL\n",
      "NULL\n",
      "NULL\n",
      "\n"
     ]
    }
   ],
   "source": [
    "# Distribution of fused barcode abundance in each condition (histogram and heatmap)  \n",
    "\"\"\"\n",
    "Data structure: s_heatmap_*.csv\n",
    "Method\tCondition\tReplicate\tbait\tprey\ts\n",
    "PCA\tMTX1\t72\t1BC1\t1BC1\t1.601097664\n",
    "PCA\tMTX1\t72\t1BC2\t1BC1\t2.461562041\n",
    "\"\"\"\n",
    "\n",
    "Fs = [ f for f in os.listdir(diploid_s) if (f[-4:]==\".csv\")]\n",
    "\n",
    "LL = [[\"Method\",\"Condition\",\"Replicate\",\"bait\",\"prey\",\"s\"]]\n",
    "for f in Fs:\n",
    "    LL += norm.csv2LL(\"%s/%s\"%(diploid_s,f))[1:]\n",
    "norm.LL2csv(LL,\"%s/s_heatmap_merged.csv\"%(plot_dir))\n",
    "\n",
    "f = \"%s/s_heatmap_merged.csv\"%(plot_dir)\n",
    "out_file = f.split(\"/\")[-1].split(\".\")[0]\n",
    "panel_width  = 4.0 #cm  \n",
    "panel_height = 4.0 #cm\n",
    "pdf_width    = 30.0\n",
    "pdf_height   = 20.0\n",
    "\n",
    "command = \"Rscript %s/heatmap_s.r %s %s/%s.pdf %.2f %.2f %.2f %.2f\"%(script_dir,f,plot_dir,out_file,panel_width,panel_height,pdf_width,pdf_height)\n",
    "print(\"Executing ;\\n\\n\\n%s\\n\\n\"%(command))\n",
    "print(os.popen(command).read())\n"
   ]
  },
  {
   "cell_type": "code",
   "execution_count": null,
   "id": "processed-drawing",
   "metadata": {},
   "outputs": [],
   "source": []
  }
 ],
 "metadata": {
  "kernelspec": {
   "display_name": "Python 3",
   "language": "python",
   "name": "python3"
  },
  "language_info": {
   "codemirror_mode": {
    "name": "ipython",
    "version": 3
   },
   "file_extension": ".py",
   "mimetype": "text/x-python",
   "name": "python",
   "nbconvert_exporter": "python",
   "pygments_lexer": "ipython3",
   "version": "3.6.1"
  }
 },
 "nbformat": 4,
 "nbformat_minor": 5
}
