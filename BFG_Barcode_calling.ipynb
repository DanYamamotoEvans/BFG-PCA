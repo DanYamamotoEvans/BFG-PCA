{
 "cells": [
  {
   "cell_type": "code",
   "execution_count": 1,
   "id": "dress-glasgow",
   "metadata": {},
   "outputs": [],
   "source": [
    "# coding: utf-8\n",
    "import ast\n",
    "import os\n",
    "import sys\n",
    "import re\n",
    "from pprint import pprint\n",
    "import numpy as np\n",
    "from tqdm import tqdm\n",
    "import matplotlib.pyplot as plt\n",
    "\n",
    "\n",
    "from func import blast \n",
    "\n",
    "run_name = 'test'\n",
    "\n",
    "PATH = os.path.abspath(\".\")\n",
    "\n",
    "if not os.path.isdir('%s/Data/%s'%(PATH,run_name)):\n",
    "    os.makedirs('%s/Data/%s'%(PATH,run_name))\n",
    "    os.makedirs('%s/Data/%s/fragmented_fasta'%(PATH,run_name))\n",
    "    os.makedirs('%s/Data/%s/blast'%(PATH,run_name))\n",
    "    os.makedirs('%s/Data/%s/barcode_counts'%(PATH,run_name))\n",
    "    os.makedirs('%s/Data/%s/db'%(PATH,run_name))\n"
   ]
  },
  {
   "cell_type": "code",
   "execution_count": 6,
   "id": "solar-double",
   "metadata": {},
   "outputs": [
    {
     "name": "stdout",
     "output_type": "stream",
     "text": [
      "Made fna file : /Users/danyamamotoevans/GitHub/BFG/Data/test/db/test_database.fna\n",
      "\n",
      "\n",
      "Building a new DB, current time: 07/26/2021 11:52:31\n",
      "New DB name:   /Users/danyamamotoevans/GitHub/BFG/Data/test/db/test_database.fna\n",
      "New DB title:  /Users/danyamamotoevans/GitHub/BFG/Data/test/db/test_database.fna\n",
      "Sequence type: Nucleotide\n",
      "Keep MBits: T\n",
      "Maximum file size: 1000000000B\n",
      "\n"
     ]
    }
   ],
   "source": [
    "###############################\n",
    "## Create BLAST database\n",
    "databse   = \"%s/test_database.csv\"%(PATH) #Change this to your own database\n",
    "const_seq = \"%s/const-seq.csv\"%(PATH) # DO NOT CHANGE THIS\n",
    "\n",
    "db_fna    = blast.mkdb(databse,const_seq,run_name,\"%s/Data/%s/db\"%(PATH,run_name))\n",
    "\n",
    "command = \"makeblastdb -in %s -out %s -dbtype nucl\"%(db_fna,db_fna)\n",
    "\n",
    "print(os.popen(command).read())"
   ]
  },
  {
   "cell_type": "code",
   "execution_count": 3,
   "id": "distinct-housing",
   "metadata": {},
   "outputs": [
    {
     "ename": "FileNotFoundError",
     "evalue": "[Errno 2] No such file or directory: 'FULL/PATH/TO/FASTQ'",
     "output_type": "error",
     "traceback": [
      "\u001b[0;31m---------------------------------------------------------------------------\u001b[0m",
      "\u001b[0;31mFileNotFoundError\u001b[0m                         Traceback (most recent call last)",
      "\u001b[0;32m<ipython-input-3-c31021f358db>\u001b[0m in \u001b[0;36m<module>\u001b[0;34m\u001b[0m\n\u001b[1;32m      2\u001b[0m \u001b[0;31m## Convert fastq to fasta files in small chunks to make it easy to handle\u001b[0m\u001b[0;34m\u001b[0m\u001b[0;34m\u001b[0m\u001b[0m\n\u001b[1;32m      3\u001b[0m \u001b[0mmiseq_dir\u001b[0m \u001b[0;34m=\u001b[0m \u001b[0;34m'FULL/PATH/TO/FASTQ'\u001b[0m\u001b[0;34m\u001b[0m\u001b[0m\n\u001b[0;32m----> 4\u001b[0;31m \u001b[0mblast\u001b[0m\u001b[0;34m.\u001b[0m\u001b[0mfastq2fasta\u001b[0m\u001b[0;34m(\u001b[0m\u001b[0mmiseq_dir\u001b[0m\u001b[0;34m,\u001b[0m\u001b[0;36m150\u001b[0m\u001b[0;34m,\u001b[0m\u001b[0mPATH\u001b[0m\u001b[0;34m)\u001b[0m\u001b[0;34m\u001b[0m\u001b[0m\n\u001b[0m\u001b[1;32m      5\u001b[0m \u001b[0;34m\u001b[0m\u001b[0m\n",
      "\u001b[0;32m~/GitHub/BFG/func/blast.py\u001b[0m in \u001b[0;36mfastq2fasta\u001b[0;34m(f_dir, read_len, path)\u001b[0m\n\u001b[1;32m     12\u001b[0m     \u001b[0mfragmented_dir\u001b[0m \u001b[0;34m=\u001b[0m \u001b[0;34m\"%s/fragmented_fasta\"\u001b[0m\u001b[0;34m%\u001b[0m\u001b[0;34m(\u001b[0m\u001b[0mpath\u001b[0m\u001b[0;34m)\u001b[0m\u001b[0;34m\u001b[0m\u001b[0m\n\u001b[1;32m     13\u001b[0m \u001b[0;34m\u001b[0m\u001b[0m\n\u001b[0;32m---> 14\u001b[0;31m     \u001b[0mfastq\u001b[0m \u001b[0;34m=\u001b[0m \u001b[0mget_files\u001b[0m\u001b[0;34m(\u001b[0m\u001b[0mmiseq_dir\u001b[0m\u001b[0;34m)\u001b[0m\u001b[0;34m\u001b[0m\u001b[0m\n\u001b[0m\u001b[1;32m     15\u001b[0m     \u001b[0;32mfor\u001b[0m \u001b[0mF\u001b[0m \u001b[0;32min\u001b[0m \u001b[0mfastq\u001b[0m\u001b[0;34m:\u001b[0m\u001b[0;34m\u001b[0m\u001b[0m\n\u001b[1;32m     16\u001b[0m         \u001b[0mmake_fragmented_fasta\u001b[0m\u001b[0;34m(\u001b[0m\u001b[0;34m\"%s/%s\"\u001b[0m\u001b[0;34m%\u001b[0m\u001b[0;34m(\u001b[0m\u001b[0mmiseq_dir\u001b[0m\u001b[0;34m,\u001b[0m\u001b[0mF\u001b[0m\u001b[0;34m)\u001b[0m\u001b[0;34m,\u001b[0m\u001b[0;36m100000\u001b[0m\u001b[0;34m,\u001b[0m\u001b[0mint\u001b[0m\u001b[0;34m(\u001b[0m\u001b[0mread_length\u001b[0m\u001b[0;34m)\u001b[0m\u001b[0;34m,\u001b[0m\u001b[0mfragmented_dir\u001b[0m\u001b[0;34m)\u001b[0m \u001b[0;31m#File, split num\u001b[0m\u001b[0;34m\u001b[0m\u001b[0m\n",
      "\u001b[0;32m~/GitHub/BFG/func/blast.py\u001b[0m in \u001b[0;36mget_files\u001b[0;34m(x)\u001b[0m\n\u001b[1;32m    129\u001b[0m \u001b[0;32mdef\u001b[0m \u001b[0mget_files\u001b[0m\u001b[0;34m(\u001b[0m\u001b[0mx\u001b[0m\u001b[0;34m)\u001b[0m\u001b[0;34m:\u001b[0m\u001b[0;34m\u001b[0m\u001b[0m\n\u001b[1;32m    130\u001b[0m     \u001b[0mfiles\u001b[0m \u001b[0;34m=\u001b[0m \u001b[0;34m[\u001b[0m\u001b[0;34m]\u001b[0m\u001b[0;34m\u001b[0m\u001b[0m\n\u001b[0;32m--> 131\u001b[0;31m     \u001b[0mlis\u001b[0m \u001b[0;34m=\u001b[0m \u001b[0mos\u001b[0m\u001b[0;34m.\u001b[0m\u001b[0mlistdir\u001b[0m\u001b[0;34m(\u001b[0m\u001b[0;34m\"%s\"\u001b[0m \u001b[0;34m%\u001b[0m\u001b[0mx\u001b[0m\u001b[0;34m)\u001b[0m\u001b[0;34m\u001b[0m\u001b[0m\n\u001b[0m\u001b[1;32m    132\u001b[0m     \u001b[0;32mfor\u001b[0m \u001b[0mi\u001b[0m \u001b[0;32min\u001b[0m \u001b[0mlis\u001b[0m\u001b[0;34m:\u001b[0m\u001b[0;34m\u001b[0m\u001b[0m\n\u001b[1;32m    133\u001b[0m         \u001b[0;32mif\u001b[0m \u001b[0mi\u001b[0m\u001b[0;34m[\u001b[0m\u001b[0;34m-\u001b[0m\u001b[0;36m6\u001b[0m\u001b[0;34m:\u001b[0m\u001b[0;34m]\u001b[0m \u001b[0;34m==\u001b[0m \u001b[0;34m\".fastq\"\u001b[0m \u001b[0;34m:\u001b[0m\u001b[0;34m\u001b[0m\u001b[0m\n",
      "\u001b[0;31mFileNotFoundError\u001b[0m: [Errno 2] No such file or directory: 'FULL/PATH/TO/FASTQ'"
     ]
    }
   ],
   "source": [
    "################################\n",
    "## Convert fastq to fasta files in small chunks to make it easy to handle\n",
    "miseq_dir = 'FULL/PATH/TO/FASTQ'\n",
    "blast.fastq2fasta(miseq_dir,150,PATH)\n",
    "\n"
   ]
  }
 ],
 "metadata": {
  "kernelspec": {
   "display_name": "Python 3",
   "language": "python",
   "name": "python3"
  },
  "language_info": {
   "codemirror_mode": {
    "name": "ipython",
    "version": 3
   },
   "file_extension": ".py",
   "mimetype": "text/x-python",
   "name": "python",
   "nbconvert_exporter": "python",
   "pygments_lexer": "ipython3",
   "version": "3.6.1"
  }
 },
 "nbformat": 4,
 "nbformat_minor": 5
}
