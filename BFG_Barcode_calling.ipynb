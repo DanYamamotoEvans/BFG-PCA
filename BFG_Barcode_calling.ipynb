{
 "cells": [
  {
   "cell_type": "code",
   "execution_count": 1,
   "id": "thrown-carbon",
   "metadata": {},
   "outputs": [],
   "source": [
    "# coding: utf-8\n",
    "import ast\n",
    "import json\n",
    "import os\n",
    "import sys\n",
    "import re\n",
    "from pprint import pprint\n",
    "import numpy as np\n",
    "from tqdm import tqdm\n",
    "import matplotlib.pyplot as plt\n",
    "import datetime\n",
    "\n",
    "\n",
    "from func import blast \n",
    "\n",
    "run_name = 'test'\n",
    "\n",
    "PATH = os.path.abspath(\".\")\n",
    "\n",
    "#################################\n",
    "## Preparing Directories for Run\n",
    "\n",
    "if not os.path.isdir('%s/Data/%s'%(PATH,run_name)):\n",
    "    os.makedirs('%s/Data/%s'%(PATH,run_name))\n",
    "    os.makedirs('%s/Data/%s/fragmented_fasta'%(PATH,run_name))\n",
    "    os.makedirs('%s/Data/%s/blast'%(PATH,run_name))\n",
    "    os.makedirs('%s/Data/%s/blast/sh'%(PATH,run_name))\n",
    "    os.makedirs('%s/Data/%s/blast/out'%(PATH,run_name))\n",
    "    os.makedirs('%s/Data/%s/barcode_counts'%(PATH,run_name))\n",
    "    os.makedirs('%s/Data/%s/db'%(PATH,run_name))\n"
   ]
  },
  {
   "cell_type": "code",
   "execution_count": 2,
   "id": "billion-electron",
   "metadata": {},
   "outputs": [
    {
     "name": "stdout",
     "output_type": "stream",
     "text": [
      "Made fna file : /Users/danyamamotoevans/GitHub/BFG/Data/test/db/test_database.fna\n",
      "\n",
      "\n",
      "Building a new DB, current time: 07/27/2021 17:53:46\n",
      "New DB name:   /Users/danyamamotoevans/GitHub/BFG/Data/test/db/test_database.fna\n",
      "New DB title:  /Users/danyamamotoevans/GitHub/BFG/Data/test/db/test_database.fna\n",
      "Sequence type: Nucleotide\n",
      "Deleted existing Nucleotide BLAST database named /Users/danyamamotoevans/GitHub/BFG/Data/test/db/test_database.fna\n",
      "Keep MBits: T\n",
      "Maximum file size: 1000000000B\n",
      "Adding sequences from FASTA; added 220 sequences in 0.00865102 seconds.\n",
      "\n"
     ]
    }
   ],
   "source": [
    "###############################\n",
    "## Create BLAST database\n",
    "databse   = \"%s/test/test_database.csv\"%(PATH) #Change this to your own database\n",
    "const_seq = \"%s/const-seq.csv\"%(PATH) # DO NOT CHANGE THIS\n",
    "\n",
    "db_fna    = blast.mkdb(databse,const_seq,run_name,\"%s/Data/%s/db\"%(PATH,run_name))\n",
    "\n",
    "command = \"makeblastdb -in %s  -dbtype nucl\"%(db_fna)\n",
    "\n",
    "print(os.popen(command).read())"
   ]
  },
  {
   "cell_type": "code",
   "execution_count": 4,
   "id": "surprised-moldova",
   "metadata": {},
   "outputs": [
    {
     "name": "stdout",
     "output_type": "stream",
     "text": [
      "Made fna file : /Users/danyamamotoevans/GitHub/BFG/Data/test/fragmented_fasta/Undetermined_S0_L001_R1_001_1.fna\n",
      "Made fna file : /Users/danyamamotoevans/GitHub/BFG/Data/test/fragmented_fasta/Undetermined_S0_L001_R1_001_2.fna\n",
      "Made fna file : /Users/danyamamotoevans/GitHub/BFG/Data/test/fragmented_fasta/Undetermined_S0_L001_R1_001_3.fna\n",
      "Made fna file : /Users/danyamamotoevans/GitHub/BFG/Data/test/fragmented_fasta/Undetermined_S0_L001_R1_001_4.fna\n",
      "Made fna file : /Users/danyamamotoevans/GitHub/BFG/Data/test/fragmented_fasta/Undetermined_S0_L001_R1_001_5.fna\n",
      "Made fna file : /Users/danyamamotoevans/GitHub/BFG/Data/test/fragmented_fasta/Undetermined_S0_L001_R1_001_6.fna\n",
      "Made fna file : /Users/danyamamotoevans/GitHub/BFG/Data/test/fragmented_fasta/Undetermined_S0_L001_R1_001_7.fna\n",
      "Made fna file : /Users/danyamamotoevans/GitHub/BFG/Data/test/fragmented_fasta/Undetermined_S0_L001_R1_001_8.fna\n",
      "Made fna file : /Users/danyamamotoevans/GitHub/BFG/Data/test/fragmented_fasta/Undetermined_S0_L001_R1_001_9.fna\n",
      "Made fna file : /Users/danyamamotoevans/GitHub/BFG/Data/test/fragmented_fasta/Undetermined_S0_L001_R1_001_10.fna\n",
      "Made fna file : /Users/danyamamotoevans/GitHub/BFG/Data/test/fragmented_fasta/Undetermined_S0_L001_R1_001_11.fna\n",
      "Made fna file : /Users/danyamamotoevans/GitHub/BFG/Data/test/fragmented_fasta/Undetermined_S0_L001_R1_001_12.fna\n",
      "Made fna file : /Users/danyamamotoevans/GitHub/BFG/Data/test/fragmented_fasta/Undetermined_S0_L001_R1_001_13.fna\n",
      "Made fna file : /Users/danyamamotoevans/GitHub/BFG/Data/test/fragmented_fasta/Undetermined_S0_L001_R1_001_14.fna\n",
      "Made fna file : /Users/danyamamotoevans/GitHub/BFG/Data/test/fragmented_fasta/Undetermined_S0_L001_R1_001_15.fna\n",
      "Made fna file : /Users/danyamamotoevans/GitHub/BFG/Data/test/fragmented_fasta/Undetermined_S0_L001_R1_001_16.fna\n",
      "Made fna file : /Users/danyamamotoevans/GitHub/BFG/Data/test/fragmented_fasta/Undetermined_S0_L001_R1_001_17.fna\n",
      "Made fna file : /Users/danyamamotoevans/GitHub/BFG/Data/test/fragmented_fasta/Undetermined_S0_L001_R1_001_18.fna\n",
      "Made fna file : /Users/danyamamotoevans/GitHub/BFG/Data/test/fragmented_fasta/Undetermined_S0_L001_R1_001_19.fna\n",
      "Made fna file : /Users/danyamamotoevans/GitHub/BFG/Data/test/fragmented_fasta/Undetermined_S0_L001_R1_001_20.fna\n",
      "Made fna file : /Users/danyamamotoevans/GitHub/BFG/Data/test/fragmented_fasta/Undetermined_S0_L001_R1_001_21.fna\n",
      "Made fna file : /Users/danyamamotoevans/GitHub/BFG/Data/test/fragmented_fasta/Undetermined_S0_L001_R1_001_22.fna\n",
      "Made fna file : /Users/danyamamotoevans/GitHub/BFG/Data/test/fragmented_fasta/Undetermined_S0_L001_R1_001_23.fna\n",
      "Made fna file : /Users/danyamamotoevans/GitHub/BFG/Data/test/fragmented_fasta/Undetermined_S0_L001_R1_001_24.fna\n",
      "Made fna file : /Users/danyamamotoevans/GitHub/BFG/Data/test/fragmented_fasta/Undetermined_S0_L001_R1_001_25.fna\n",
      "Made fna file : /Users/danyamamotoevans/GitHub/BFG/Data/test/fragmented_fasta/Undetermined_S0_L001_R1_001_26.fna\n",
      "Made fna file : /Users/danyamamotoevans/GitHub/BFG/Data/test/fragmented_fasta/Undetermined_S0_L001_R2_001_1.fna\n",
      "Made fna file : /Users/danyamamotoevans/GitHub/BFG/Data/test/fragmented_fasta/Undetermined_S0_L001_R2_001_2.fna\n",
      "Made fna file : /Users/danyamamotoevans/GitHub/BFG/Data/test/fragmented_fasta/Undetermined_S0_L001_R2_001_3.fna\n",
      "Made fna file : /Users/danyamamotoevans/GitHub/BFG/Data/test/fragmented_fasta/Undetermined_S0_L001_R2_001_4.fna\n",
      "Made fna file : /Users/danyamamotoevans/GitHub/BFG/Data/test/fragmented_fasta/Undetermined_S0_L001_R2_001_5.fna\n",
      "Made fna file : /Users/danyamamotoevans/GitHub/BFG/Data/test/fragmented_fasta/Undetermined_S0_L001_R2_001_6.fna\n",
      "Made fna file : /Users/danyamamotoevans/GitHub/BFG/Data/test/fragmented_fasta/Undetermined_S0_L001_R2_001_7.fna\n",
      "Made fna file : /Users/danyamamotoevans/GitHub/BFG/Data/test/fragmented_fasta/Undetermined_S0_L001_R2_001_8.fna\n",
      "Made fna file : /Users/danyamamotoevans/GitHub/BFG/Data/test/fragmented_fasta/Undetermined_S0_L001_R2_001_9.fna\n",
      "Made fna file : /Users/danyamamotoevans/GitHub/BFG/Data/test/fragmented_fasta/Undetermined_S0_L001_R2_001_10.fna\n",
      "Made fna file : /Users/danyamamotoevans/GitHub/BFG/Data/test/fragmented_fasta/Undetermined_S0_L001_R2_001_11.fna\n",
      "Made fna file : /Users/danyamamotoevans/GitHub/BFG/Data/test/fragmented_fasta/Undetermined_S0_L001_R2_001_12.fna\n",
      "Made fna file : /Users/danyamamotoevans/GitHub/BFG/Data/test/fragmented_fasta/Undetermined_S0_L001_R2_001_13.fna\n",
      "Made fna file : /Users/danyamamotoevans/GitHub/BFG/Data/test/fragmented_fasta/Undetermined_S0_L001_R2_001_14.fna\n",
      "Made fna file : /Users/danyamamotoevans/GitHub/BFG/Data/test/fragmented_fasta/Undetermined_S0_L001_R2_001_15.fna\n",
      "Made fna file : /Users/danyamamotoevans/GitHub/BFG/Data/test/fragmented_fasta/Undetermined_S0_L001_R2_001_16.fna\n",
      "Made fna file : /Users/danyamamotoevans/GitHub/BFG/Data/test/fragmented_fasta/Undetermined_S0_L001_R2_001_17.fna\n",
      "Made fna file : /Users/danyamamotoevans/GitHub/BFG/Data/test/fragmented_fasta/Undetermined_S0_L001_R2_001_18.fna\n",
      "Made fna file : /Users/danyamamotoevans/GitHub/BFG/Data/test/fragmented_fasta/Undetermined_S0_L001_R2_001_19.fna\n",
      "Made fna file : /Users/danyamamotoevans/GitHub/BFG/Data/test/fragmented_fasta/Undetermined_S0_L001_R2_001_20.fna\n",
      "Made fna file : /Users/danyamamotoevans/GitHub/BFG/Data/test/fragmented_fasta/Undetermined_S0_L001_R2_001_21.fna\n",
      "Made fna file : /Users/danyamamotoevans/GitHub/BFG/Data/test/fragmented_fasta/Undetermined_S0_L001_R2_001_22.fna\n",
      "Made fna file : /Users/danyamamotoevans/GitHub/BFG/Data/test/fragmented_fasta/Undetermined_S0_L001_R2_001_23.fna\n",
      "Made fna file : /Users/danyamamotoevans/GitHub/BFG/Data/test/fragmented_fasta/Undetermined_S0_L001_R2_001_24.fna\n",
      "Made fna file : /Users/danyamamotoevans/GitHub/BFG/Data/test/fragmented_fasta/Undetermined_S0_L001_R2_001_25.fna\n",
      "Made fna file : /Users/danyamamotoevans/GitHub/BFG/Data/test/fragmented_fasta/Undetermined_S0_L001_R2_001_26.fna\n"
     ]
    }
   ],
   "source": [
    "################################\n",
    "## Convert fastq to fasta files in small chunks to make it easy to handle\n",
    "miseq_dir =  #'FULL/PATH/TO/FASTQ' Put both R1 and R2 in the directory\n",
    "blast.fastq2fasta(miseq_dir,150,\"%s/Data/%s\"%(PATH,run_name))"
   ]
  },
  {
   "cell_type": "code",
   "execution_count": 5,
   "id": "stainless-malawi",
   "metadata": {},
   "outputs": [],
   "source": [
    "#################################\n",
    "## Create sh files to execute BLAST\n",
    "blast.mk_blast_sh('%s/Data/%s/fragmented_fasta'%(PATH,run_name),db_fna, '%s/Data/%s'%(PATH,run_name))\n"
   ]
  },
  {
   "cell_type": "code",
   "execution_count": null,
   "id": "exceptional-floor",
   "metadata": {},
   "outputs": [
    {
     "name": "stderr",
     "output_type": "stream",
     "text": [
      "\r",
      "  0%|          | 0/52 [00:00<?, ?it/s]"
     ]
    },
    {
     "name": "stdout",
     "output_type": "stream",
     "text": [
      "Executing BLAST for barcode alignment...(this takes time)\n",
      "\n",
      "Start time: 2021-07-27 18:12:35.336131\n"
     ]
    },
    {
     "name": "stderr",
     "output_type": "stream",
     "text": [
      " 62%|██████▏   | 32/52 [33:19<20:57, 62.87s/it]"
     ]
    }
   ],
   "source": [
    "################################\n",
    "## Execute BLAST\n",
    "print(\"Executing BLAST for barcode alignment...(this takes time)\\n\")\n",
    "print(\"Start time: %s\"%datetime.datetime.now())\n",
    "blast_sh = blast.get_sh('%s/Data/%s/blast/sh'%(PATH,run_name))\n",
    "\n",
    "for sh in tqdm(blast_sh):\n",
    "    command = \"sh %s/Data/%s/blast/sh/%s\"%(PATH,run_name,sh)\n",
    "    os.system(command)\n",
    "    os.system(\"rm %s/Data/%s/blast/sh/%s\"%(PATH,run_name,sh))\n",
    "#You can pause and re-execute this cell if it is partially done."
   ]
  },
  {
   "cell_type": "code",
   "execution_count": null,
   "id": "illegal-feelings",
   "metadata": {},
   "outputs": [],
   "source": [
    "################################\n",
    "## Parse BLAST output\n",
    "\n",
    "print(\"Parsing BLAST alignment results...\")\n",
    "\n",
    "blast.parse_blast_out(PATH,run_name,db_fna)\n",
    "\n",
    "        \n",
    "print(\"\\n\\n\\nProceed to BFG_data_normalization.ipynb to perform score normalization.\")"
   ]
  },
  {
   "cell_type": "code",
   "execution_count": null,
   "id": "handed-brunei",
   "metadata": {},
   "outputs": [],
   "source": []
  }
 ],
 "metadata": {
  "kernelspec": {
   "display_name": "Python 3",
   "language": "python",
   "name": "python3"
  },
  "language_info": {
   "codemirror_mode": {
    "name": "ipython",
    "version": 3
   },
   "file_extension": ".py",
   "mimetype": "text/x-python",
   "name": "python",
   "nbconvert_exporter": "python",
   "pygments_lexer": "ipython3",
   "version": "3.6.1"
  }
 },
 "nbformat": 4,
 "nbformat_minor": 5
}
