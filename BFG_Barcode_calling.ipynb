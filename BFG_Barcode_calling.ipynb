{
 "cells": [
  {
   "cell_type": "code",
   "execution_count": null,
   "id": "thrown-carbon",
   "metadata": {},
   "outputs": [],
   "source": [
    "# coding: utf-8\n",
    "import ast\n",
    "import json\n",
    "import os\n",
    "import sys\n",
    "import re\n",
    "from pprint import pprint\n",
    "import numpy as np\n",
    "from tqdm import tqdm\n",
    "import matplotlib.pyplot as plt\n",
    "import datetime\n",
    "\n",
    "\n",
    "from func import blast \n",
    "\n",
    "run_name = 'test'\n",
    "\n",
    "PATH = os.path.abspath(\".\") # Path to Where you want to have the data. Default is in the BFG-PCA folder. \n",
    "\n",
    "#################################\n",
    "## Preparing Directories for Run\n",
    "if not os.path.isdir('%s/Data'%(PATH)):\n",
    "    os.makedirs('%s/Data'%(PATH))\n",
    "if os.path.isdir('%s/Data/%s'%(PATH,run_name)):\n",
    "    print ('%s/Data/%s already exists.\\nPlease delete the previous data, or change the run_name.'%(PATH,run_name))\n",
    "if not os.path.isdir('%s/Data/%s'%(PATH,run_name)):\n",
    "    os.makedirs('%s/Data/%s'%(PATH,run_name))\n",
    "    os.makedirs('%s/Data/%s/fragmented_fasta'%(PATH,run_name))\n",
    "    os.makedirs('%s/Data/%s/blast'%(PATH,run_name))\n",
    "    os.makedirs('%s/Data/%s/blast/sh'%(PATH,run_name))\n",
    "    os.makedirs('%s/Data/%s/blast/out'%(PATH,run_name))\n",
    "    os.makedirs('%s/Data/%s/barcode_counts'%(PATH,run_name))\n",
    "    os.makedirs('%s/Data/%s/db'%(PATH,run_name))"
   ]
  },
  {
   "cell_type": "code",
   "execution_count": null,
   "id": "billion-electron",
   "metadata": {},
   "outputs": [],
   "source": [
    "###############################\n",
    "## Create BLAST database\n",
    "databse   = \"%s/test/test_database.csv\"%(PATH) #Change this to your own database\n",
    "const_seq = \"%s/const-seq.csv\"%(PATH) # DO NOT CHANGE THIS\n",
    "\n",
    "db_fna    = blast.mkdb(databse,const_seq,run_name,\"%s/Data/%s/db\"%(PATH,run_name))\n",
    "\n",
    "command = \"makeblastdb -in %s  -dbtype nucl\"%(db_fna)\n",
    "\n",
    "print(os.popen(command).read())"
   ]
  },
  {
   "cell_type": "code",
   "execution_count": null,
   "id": "surprised-moldova",
   "metadata": {},
   "outputs": [],
   "source": [
    "################################\n",
    "## Convert fastq to fasta files in small chunks to make it easy to handle\n",
    "miseq_dir =  #'FULL/PATH/TO/FASTQ' Put both R1 and R2 fastqs in the directory. Do not forget to uncompress the files if they were compressed. \n",
    "blast.fastq2fasta(miseq_dir,150,\"%s/Data/%s\"%(PATH,run_name))"
   ]
  },
  {
   "cell_type": "code",
   "execution_count": null,
   "id": "stainless-malawi",
   "metadata": {},
   "outputs": [],
   "source": [
    "#################################\n",
    "## Create sh files to execute BLAST\n",
    "blast.mk_blast_sh('%s/Data/%s/fragmented_fasta'%(PATH,run_name),db_fna, '%s/Data/%s'%(PATH,run_name))\n"
   ]
  },
  {
   "cell_type": "code",
   "execution_count": null,
   "id": "exceptional-floor",
   "metadata": {},
   "outputs": [],
   "source": [
    "################################\n",
    "## Execute BLAST\n",
    "print(\"Executing BLAST for barcode alignment...(this takes time)\\n\")\n",
    "print(\"Start time: %s\"%datetime.datetime.now())\n",
    "blast_sh = blast.get_sh('%s/Data/%s/blast/sh'%(PATH,run_name))\n",
    "\n",
    "for sh in tqdm(blast_sh):\n",
    "    command = \"sh %s/Data/%s/blast/sh/%s\"%(PATH,run_name,sh)\n",
    "    os.system(command)\n",
    "    os.system(\"rm %s/Data/%s/blast/sh/%s\"%(PATH,run_name,sh))\n",
    "#This script executes the sh files one-by-one.\n",
    "#If you have multiple threads available, you can execute the sh files by yourself. "
   ]
  },
  {
   "cell_type": "code",
   "execution_count": null,
   "id": "illegal-feelings",
   "metadata": {},
   "outputs": [],
   "source": [
    "################################\n",
    "## Parse BLAST output\n",
    "\n",
    "print(\"Parsing BLAST alignment results...\")\n",
    "\n",
    "blast.parse_blast_out(PATH,run_name,db_fna)\n",
    "\n",
    "        \n",
    "print(\"\\n\\n\\nProceed to BFG_data_normalization.ipynb to perform score normalization.\")"
   ]
  },
  {
   "cell_type": "code",
   "execution_count": null,
   "id": "handed-brunei",
   "metadata": {},
   "outputs": [],
   "source": []
  }
 ],
 "metadata": {
  "kernelspec": {
   "display_name": "Python 3",
   "language": "python",
   "name": "python3"
  },
  "language_info": {
   "codemirror_mode": {
    "name": "ipython",
    "version": 3
   },
   "file_extension": ".py",
   "mimetype": "text/x-python",
   "name": "python",
   "nbconvert_exporter": "python",
   "pygments_lexer": "ipython3",
   "version": "3.6.1"
  }
 },
 "nbformat": 4,
 "nbformat_minor": 5
}
